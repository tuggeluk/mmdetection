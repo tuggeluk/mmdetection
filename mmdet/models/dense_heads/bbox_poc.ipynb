{
 "cells": [
  {
   "cell_type": "code",
   "execution_count": 1,
   "metadata": {},
   "outputs": [],
   "source": [
    "from matplotlib import pyplot as plt\n",
    "from typing import Tuple, NamedTuple, Generator\n",
    "%matplotlib inline\n",
    "\n",
    "import torch\n",
    "\n",
    "feat_dim = torch.Size([100, 100])\n",
    "img_size = (800, 800, 3)\n",
    "a_bboxes = torch.tensor([\n",
    "    [452.7114, 323.7556, 454.4020, 408.2842,  41.0000],\n",
    "    [452.7114, 573.9602, 454.4020, 692.3002,  41.0000],\n",
    "    [401.9912, 185.1288, 403.6819, 259.5139,  41.0000],\n",
    "    [478.0714, 185.1288, 479.7621, 259.5139,  41.0000],\n",
    "    [117.9587, 577.3413, 119.6494, 692.3002,  41.0000],\n",
    "    [298.8604, 185.1288, 300.5510, 254.4423,  41.0000],\n",
    "    [117.9587, 372.7822, 119.6494, 435.3334,  41.0000],\n",
    "    [141.6281, 195.2722, 143.3187, 267.9668,  41.0000],\n",
    "    [655.5918, 185.1288, 657.2825, 254.4423,  41.0000],\n",
    "    [658.9730, 274.7291, 660.6637, 360.9482,  41.0000]\n",
    "])\n",
    "o_bboxes = torch.tensor([\n",
    "    [553.0000, 528.5000, 313.0000, 527.2500, 312.9183, 542.9268, 552.9183, 544.1768, 122.0000],\n",
    "    [239.7677, 707.2427, 183.3551, 703.3521, 182.8018, 711.3743, 239.2145, 715.2649, 121.0000],\n",
    "    [314.4858, 282.6746, 295.9953, 277.3914, 285.8066, 313.0518, 304.2971, 318.3350,  87.0000],\n",
    "    [574.2500, 514.7500, 565.5000, 497.2500, 539.0000, 510.5000, 547.7500, 528.0000,  28.0000],\n",
    "    [125.0001, 515.0000, 116.5001, 498.0000,  92.0000, 510.2500, 100.5000, 527.2500,  24.0000],\n",
    "    [126.0000, 668.2500, 117.5001, 651.2500,  93.5000, 663.2500, 102.0000, 680.2500,  24.0000],\n",
    "    [267.7501, 658.0000, 259.2500, 641.0000, 234.2500, 653.5000, 242.7501, 670.5000,  26.0000],\n",
    "    [374.2500, 319.7500, 365.7500, 302.7500, 340.7500, 315.2500, 349.2500, 332.2500,  24.0000],\n",
    "    [268.0000, 524.7500, 259.5000, 507.7500, 234.0001, 520.5000, 242.5001, 537.5000,  26.0000],\n",
    "    [629.7500, 278.2500, 621.2500, 261.2500, 596.7500, 273.5000, 605.2500, 290.5000,  24.0000]\n",
    "])\n"
   ]
  },
  {
   "cell_type": "code",
   "execution_count": 2,
   "outputs": [
    {
     "name": "stdout",
     "output_type": "stream",
     "text": [
      "tensor([553.0000, 528.5000, 313.0000, 527.2500, 312.9183, 542.9268, 552.9183,\n",
      "        544.1768, 122.0000])\n"
     ]
    }
   ],
   "source": [
    "def expand_corners(a_bbox: torch.Tensor) -> torch.Tensor:\n",
    "    # corners = get_coords(a_bbox, 2)\n",
    "    x0, y0, x2, y2, lbl = a_bbox\n",
    "    x1, x3 = (x0, x2) if x0 < x2 else (x2, x0)\n",
    "    y1, y3 = (y2, y0) if y0 < y2 else (y2, y0)\n",
    "    # print(f\"{x0:.6}, {y0:.6} -> {x3:.6}, {y3:.6} ({lbl})\")\n",
    "    # print(f\"{x0:.6}/{y0:.6}   ---   {x1:.6}/{y1:.6}\")\n",
    "    # print(\"       |                       |\")\n",
    "    # print(\"       |                       |\")\n",
    "    # print(\"       |                       |\")\n",
    "    # print(f\"{x3:.6}/{y3:.6}   ---   {x2:.6}/{y2:.6}\")\n",
    "    return torch.stack((x0, y0, x1, y1, x2, y2, x3, y3, lbl))\n",
    "\n",
    "o_bbox = expand_corners(a_bboxes[0])\n",
    "o_bbox = o_bboxes[0]\n",
    "print(o_bbox)"
   ],
   "metadata": {
    "collapsed": false,
    "pycharm": {
     "name": "#%%\n"
    }
   }
  },
  {
   "cell_type": "code",
   "execution_count": 3,
   "metadata": {},
   "outputs": [
    {
     "name": "stdout",
     "output_type": "stream",
     "text": [
      "tensor([[553.0000, 528.5000],\n",
      "        [313.0000, 527.2500],\n",
      "        [312.9183, 542.9268],\n",
      "        [552.9183, 544.1768]])\n",
      "tensor(122.)\n"
     ]
    }
   ],
   "source": [
    "def to_points(bbox: torch.Tensor) -> torch.Tensor:\n",
    "    if len(bbox.size()) != 1:\n",
    "        raise Exception(\"Cannot create points from a multi-dimensional tensor.\")\n",
    "    if bbox.size()[0] % 2 != 0:\n",
    "        raise Exception(\"Cannot create points from an uneven number of scalars.\")\n",
    "    n_pairs = bbox.size()[0] // 2\n",
    "    return bbox.view((n_pairs, 2))\n",
    "\n",
    "def extract(bbox: torch.Tensor) -> Tuple[torch.Tensor, float]:\n",
    "    return to_points(bbox[:-1]), bbox[-1]\n",
    "\n",
    "def reassemble_bbox(coords: torch.Tensor, label: float) -> torch.Tensor:\n",
    "    return torch.cat([torch.flatten(coords), torch.tensor([label])])\n",
    "\n",
    "points, lbl = extract(o_bbox)\n",
    "print(points)\n",
    "print(lbl)"
   ]
  },
  {
   "cell_type": "code",
   "execution_count": 4,
   "metadata": {},
   "outputs": [
    {
     "name": "stdout",
     "output_type": "stream",
     "text": [
      "tensor([[312.9183, 527.2500],\n",
      "        [553.0000, 544.1768]])\n"
     ]
    }
   ],
   "source": [
    "def get_convex_hull(corners: torch.Tensor) -> torch.Tensor:\n",
    "    p0 = torch.min(corners, dim=0).values\n",
    "    p1 = torch.max(corners, dim=0).values\n",
    "    return torch.stack((p0, p1))\n",
    "\n",
    "conv_hull = get_convex_hull(points)\n",
    "print(conv_hull)"
   ]
  },
  {
   "cell_type": "code",
   "execution_count": 5,
   "metadata": {},
   "outputs": [
    {
     "name": "stdout",
     "output_type": "stream",
     "text": [
      "tensor([432.9592, 535.7134])\n"
     ]
    }
   ],
   "source": [
    "def get_conv_hull_center(conv_hull: torch.Tensor) -> torch.Tensor:\n",
    "    return torch.mean(conv_hull, dim=0)\n",
    "\n",
    "center = get_conv_hull_center(conv_hull)\n",
    "print(center)"
   ]
  },
  {
   "cell_type": "code",
   "execution_count": 6,
   "outputs": [
    {
     "name": "stdout",
     "output_type": "stream",
     "text": [
      "-- tensor([120.0408,  -7.2134]) -> 6.223166465759277\n",
      "-- tensor([-119.9592,   -8.4634]) -> 3.2120282649993896\n",
      "-- tensor([-120.0409,    7.2134]) -> 3.081573486328125\n",
      "-- tensor([119.9591,   8.4634]) -> 0.07043599337339401\n",
      "[tensor(6.2232), tensor(3.2120), tensor(3.0816), tensor(0.0704)]\n",
      "tensor([[ 120.0408,   -7.2134],\n",
      "        [-119.9592,   -8.4634],\n",
      "        [-120.0409,    7.2134],\n",
      "        [ 119.9591,    8.4634]])\n"
     ]
    }
   ],
   "source": [
    "import math\n",
    "\n",
    "def get_angle(coord: torch.Tensor) -> torch.Tensor:\n",
    "    x, y = coord\n",
    "    angle = torch.atan(y/x)\n",
    "    if x < 0:  # quadrant II or III\n",
    "        angle += math.pi\n",
    "    elif x > 0 and y < 0:  # quadrant IV\n",
    "        angle += 2*math.pi\n",
    "    return angle\n",
    "\n",
    "def order_corners(points: torch.Tensor) -> torch.Tensor:\n",
    "    offsets = points - torch.mean(points, dim=0)\n",
    "    angles = []\n",
    "    for offset in offsets:\n",
    "        angle = get_angle(offset)\n",
    "        angles.append(angle)\n",
    "        print(f\"-- {offset} -> {angle}\")\n",
    "    print(angles)\n",
    "    print(offsets)\n",
    "    #TODO: Decide on a good way to order corners\n",
    "\n",
    "_ = order_corners(points)\n"
   ],
   "metadata": {
    "collapsed": false,
    "pycharm": {
     "name": "#%%\n"
    }
   }
  },
  {
   "cell_type": "code",
   "execution_count": 7,
   "outputs": [
    {
     "name": "stdout",
     "output_type": "stream",
     "text": [
      "tensor([[ 69,  66,  39,  66,  40,  67,  70,  69, 122],\n",
      "        [ 29,  88,  22,  88,  23,  88,  30,  90, 121],\n",
      "        [ 39,  35,  36,  35,  36,  39,  39,  40,  87],\n",
      "        [ 71,  64,  70,  63,  68,  63,  69,  67,  28],\n",
      "        [ 15,  64,  14,  63,  12,  63,  13,  66,  24],\n",
      "        [ 15,  83,  14,  82,  12,  82,  13,  86,  24],\n",
      "        [ 33,  82,  32,  81,  30,  81,  31,  84,  26],\n",
      "        [ 46,  39,  45,  38,  43,  39,  44,  42,  24],\n",
      "        [ 33,  65,  32,  64,  30,  65,  31,  68,  26],\n",
      "        [ 78,  34,  77,  33,  75,  34,  76,  37,  24]])\n"
     ]
    }
   ],
   "source": [
    "def scale_to_grid_bounds(bboxes: torch.Tensor, feat_dim: torch.Size, img_size: Tuple[int, int, int], type_dict: dict) -> torch.Tensor:\n",
    "    n_bboxes = bboxes.shape[0]\n",
    "    # Now cast each bbox to each cell in the energy layer that it covers\n",
    "    # First bounds of grid squares that have a bbox in them\n",
    "    x_scale_factor = feat_dim[1] / img_size[1]\n",
    "    y_scale_factor = feat_dim[0] / img_size[0]\n",
    "    scale_factor = torch.tensor((x_scale_factor, y_scale_factor,\n",
    "                                 x_scale_factor, y_scale_factor,\n",
    "                                 x_scale_factor, y_scale_factor,\n",
    "                                 x_scale_factor, y_scale_factor,\n",
    "                                 1.), **type_dict)\n",
    "    scale_factor = scale_factor.repeat(n_bboxes, 1)\n",
    "\n",
    "    # scale down bounding boxes to feature size, add 1 to x2,y2 to avoid boxes with size zero\n",
    "    adder = torch.tensor((\n",
    "        0, 0,  # x0, y0\n",
    "        0, 1,  # x1, y1\n",
    "        1, 0,  # x2, y2\n",
    "        1, 1,  # x3, y3\n",
    "        0      # lbl\n",
    "    ), device=type_dict['device'])\n",
    "    adder = adder.repeat(n_bboxes, 1)\n",
    "    return torch.floor(bboxes.to(dtype=torch.float64) * scale_factor).long() + adder\n",
    "\n",
    "type_dict = {'dtype': a_bboxes.dtype, 'device': a_bboxes.device}\n",
    "grid_bounds = scale_to_grid_bounds(o_bboxes, feat_dim, img_size, type_dict)\n",
    "print(grid_bounds)\n"
   ],
   "metadata": {
    "collapsed": false,
    "pycharm": {
     "name": "#%%\n"
    }
   }
  },
  {
   "cell_type": "code",
   "execution_count": 8,
   "outputs": [],
   "source": [
    "def create_meshgrid(feat_dim: torch.Size, type_dict: dict) -> Tuple[torch.Tensor, torch.Tensor]:\n",
    "    x_index = torch.arange(0, feat_dim[1], **type_dict).repeat(feat_dim[0], 1)\n",
    "    y_index = torch.arange(0, feat_dim[0], **type_dict).repeat(feat_dim[1], 1).transpose(0, 1)\n",
    "    return x_index, y_index"
   ],
   "metadata": {
    "collapsed": false,
    "pycharm": {
     "name": "#%%\n"
    }
   }
  },
  {
   "cell_type": "code",
   "execution_count": 9,
   "outputs": [
    {
     "name": "stdout",
     "output_type": "stream",
     "text": [
      "red\n",
      "tensor([67.8500, 62.5500], dtype=torch.float64)\n",
      "tensor([-13.3500,   4.4500], dtype=torch.float64)\n",
      "green\n",
      "tensor([54.5000, 66.0000], dtype=torch.float64)\n",
      "tensor([0., 1.], dtype=torch.float64)\n",
      "blue\n",
      "tensor([47.2500, 74.2500], dtype=torch.float64)\n",
      "tensor([ 7.2500, -7.2500], dtype=torch.float64)\n",
      "magenta\n",
      "tensor([54.4358, 67.9624], dtype=torch.float64)\n",
      "tensor([ 0.0642, -0.9624], dtype=torch.float64)\n",
      "None\n"
     ]
    },
    {
     "data": {
      "text/plain": "<Figure size 720x720 with 2 Axes>",
      "image/png": "[encoded data removed]"
     },
     "metadata": {
      "needs_background": "light"
     },
     "output_type": "display_data"
    }
   ],
   "source": [
    "def to_unit_vec(vector: torch.Tensor) -> torch.Tensor:\n",
    "    \"\"\"\n",
    "    Create a unit vector out of an arbitrary vector.\n",
    "\n",
    "    :param vector: The two-dimensional vector to be made into a unit vector\n",
    "    \"\"\"\n",
    "    vector = vector.to(dtype=torch.float64)\n",
    "    return vector / torch.sqrt(vector[0]**2 + vector[1]**2)\n",
    "\n",
    "def gen_edge_vectors(ordered_corners: torch.Tensor) -> Generator[Tuple[torch.Tensor, torch.Tensor], None, None]:\n",
    "    \"\"\"\n",
    "    Generate the edges between corners as vectors.\n",
    "\n",
    "    :returns: A generator for pairs of corners and adjacent edges leading to the next corner\n",
    "    \"\"\"\n",
    "    flt_corners = ordered_corners.to(dtype=torch.float64)\n",
    "    n_corners = flt_corners.shape[0]\n",
    "    for i in range(n_corners):\n",
    "        vec = flt_corners[(i-1) % n_corners] - flt_corners[i]\n",
    "        yield ordered_corners[i], vec\n",
    "\n",
    "\n",
    "def project_ortho(point_B: torch.Tensor, vector: torch.Tensor, point_C: torch.Tensor) -> Tuple[torch.Tensor, torch.Tensor]:\n",
    "    \"\"\"\n",
    "    Calculate the orthogonal projection and return the coordinates for A and side b.\n",
    "    Given points B, C and a line through B defined by a vector, calculate the projection of\n",
    "    point C onto the line, thereby finding point A with a right angle.\n",
    "\n",
    "    :param point_B: The coordinates for point B\n",
    "    :param vector: The vector of side c to project point C onto\n",
    "    :param point_C: The coordinates for point C\n",
    "    :returns: A tuple consisting of the coordinates for point A and the vector spanning from point A to C\n",
    "    \"\"\"\n",
    "    orth_proj_skalar = torch.dot(vector, point_C - point_B) / torch.dot(vector, vector)\n",
    "    point_A = point_B + vector * orth_proj_skalar\n",
    "    vector_c = point_C - point_A\n",
    "    return point_A, vector_c\n",
    "\n",
    "mask_outside=False\n",
    "\n",
    "def get_mask(energy_layer: torch.Tensor, corners: torch.Tensor) -> torch.Tensor:\n",
    "    fig, axes = plt.subplots(ncols=2, figsize=(10, 10)) #, nrows=1, figsize=(16,10))\n",
    "    center = torch.mean(corners.to(dtype=torch.float64), dim=0)\n",
    "    axes[0].plot(center[1], -center[0], 'r+')\n",
    "    fmts = ['red', 'green', 'blue', 'magenta']\n",
    "    fmts.reverse()\n",
    "    for corner, edge in gen_edge_vectors(corners):\n",
    "        col = fmts.pop()\n",
    "        print(col)\n",
    "        axes[0].arrow(\n",
    "            corner[1], -corner[0],\n",
    "            edge[1], -edge[0],\n",
    "            # [corner[1], corner[1] + vec[1]*0.9],\n",
    "            # [-corner[0], -(corner[0] + vec[0]*0.9)],\n",
    "            color=col,\n",
    "            head_width=0.3, head_length=0.5\n",
    "        )\n",
    "        axes[0].axis('equal')\n",
    "        axes[0].set_aspect('equal')\n",
    "        axes[0].grid(True)\n",
    "        orth_projection_origin, vector = project_ortho(corner, edge, center)\n",
    "        print(orth_projection_origin)\n",
    "        print(vector)\n",
    "        axes[0].arrow(\n",
    "            orth_projection_origin[1], -orth_projection_origin[0],\n",
    "            vector[1], -vector[0],\n",
    "            color=col,\n",
    "            head_width=0.3, head_length=0.5\n",
    "        )\n",
    "\n",
    "scaled_corners = extract(grid_bounds[0])[0]\n",
    "print(get_mask(torch.zeros((feat_dim[0], feat_dim[1]), **type_dict), scaled_corners))"
   ],
   "metadata": {
    "collapsed": false,
    "pycharm": {
     "name": "#%%\n"
    }
   }
  },
  {
   "cell_type": "code",
   "execution_count": 10,
   "outputs": [
    {
     "name": "stdout",
     "output_type": "stream",
     "text": [
      "tensor([[56, 40, 56, 52, 57, 51, 57, 41, 41],\n",
      "        [56, 71, 56, 87, 57, 86, 57, 72, 41],\n",
      "        [50, 23, 50, 33, 51, 32, 51, 24, 41],\n",
      "        [59, 23, 59, 33, 60, 32, 60, 24, 41],\n",
      "        [14, 72, 14, 87, 15, 86, 15, 73, 41],\n",
      "        [37, 23, 37, 32, 38, 31, 38, 24, 41],\n",
      "        [14, 46, 14, 55, 15, 54, 15, 47, 41],\n",
      "        [17, 24, 17, 34, 18, 33, 18, 25, 41],\n",
      "        [81, 23, 81, 32, 83, 31, 83, 24, 41],\n",
      "        [82, 34, 82, 46, 83, 45, 83, 35, 41]])\n"
     ]
    },
    {
     "ename": "RuntimeError",
     "evalue": "Can only calculate the mean of floating types. Got Long instead.",
     "output_type": "error",
     "traceback": [
      "\u001B[0;31m---------------------------------------------------------------------------\u001B[0m",
      "\u001B[0;31mRuntimeError\u001B[0m                              Traceback (most recent call last)",
      "\u001B[0;32m<ipython-input-10-0952370ba4b0>\u001B[0m in \u001B[0;36m<module>\u001B[0;34m\u001B[0m\n\u001B[1;32m     81\u001B[0m     \u001B[0;32mreturn\u001B[0m \u001B[0menergy_layers\u001B[0m\u001B[0;34m.\u001B[0m\u001B[0mmax\u001B[0m\u001B[0;34m(\u001B[0m\u001B[0mdim\u001B[0m\u001B[0;34m=\u001B[0m\u001B[0;36m0\u001B[0m\u001B[0;34m)\u001B[0m\u001B[0;34m\u001B[0m\u001B[0;34m\u001B[0m\u001B[0m\n\u001B[1;32m     82\u001B[0m \u001B[0;34m\u001B[0m\u001B[0m\n\u001B[0;32m---> 83\u001B[0;31m \u001B[0mprint\u001B[0m\u001B[0;34m(\u001B[0m\u001B[0mget_energy_single\u001B[0m\u001B[0;34m(\u001B[0m\u001B[0mfeat_dim\u001B[0m\u001B[0;34m,\u001B[0m \u001B[0mimg_size\u001B[0m\u001B[0;34m,\u001B[0m \u001B[0ma_bboxes\u001B[0m\u001B[0;34m)\u001B[0m\u001B[0;34m)\u001B[0m\u001B[0;34m\u001B[0m\u001B[0;34m\u001B[0m\u001B[0m\n\u001B[0m\u001B[1;32m     84\u001B[0m \u001B[0mprint\u001B[0m\u001B[0;34m(\u001B[0m\u001B[0mget_energy_single\u001B[0m\u001B[0;34m(\u001B[0m\u001B[0mfeat_dim\u001B[0m\u001B[0;34m,\u001B[0m \u001B[0mimg_size\u001B[0m\u001B[0;34m,\u001B[0m \u001B[0mo_bboxes\u001B[0m\u001B[0;34m)\u001B[0m\u001B[0;34m)\u001B[0m\u001B[0;34m\u001B[0m\u001B[0;34m\u001B[0m\u001B[0m\n\u001B[1;32m     85\u001B[0m \u001B[0;34m\u001B[0m\u001B[0m\n",
      "\u001B[0;32m<ipython-input-10-0952370ba4b0>\u001B[0m in \u001B[0;36mget_energy_single\u001B[0;34m(feat_dim, img_size, bboxes)\u001B[0m\n\u001B[1;32m     30\u001B[0m         \u001B[0mpoints\u001B[0m\u001B[0;34m,\u001B[0m \u001B[0mlbl\u001B[0m \u001B[0;34m=\u001B[0m \u001B[0mextract\u001B[0m\u001B[0;34m(\u001B[0m\u001B[0mgb\u001B[0m\u001B[0;34m)\u001B[0m\u001B[0;34m\u001B[0m\u001B[0;34m\u001B[0m\u001B[0m\n\u001B[1;32m     31\u001B[0m         \u001B[0mconv_hull\u001B[0m \u001B[0;34m=\u001B[0m \u001B[0mget_convex_hull\u001B[0m\u001B[0;34m(\u001B[0m\u001B[0mpoints\u001B[0m\u001B[0;34m)\u001B[0m\u001B[0;34m\u001B[0m\u001B[0;34m\u001B[0m\u001B[0m\n\u001B[0;32m---> 32\u001B[0;31m         \u001B[0mcenter\u001B[0m \u001B[0;34m=\u001B[0m \u001B[0mget_conv_hull_center\u001B[0m\u001B[0;34m(\u001B[0m\u001B[0mconv_hull\u001B[0m\u001B[0;34m)\u001B[0m\u001B[0;34m\u001B[0m\u001B[0;34m\u001B[0m\u001B[0m\n\u001B[0m\u001B[1;32m     33\u001B[0m \u001B[0;34m\u001B[0m\u001B[0m\n\u001B[1;32m     34\u001B[0m         \u001B[0;31m# First create the mask of grid areas\u001B[0m\u001B[0;34m\u001B[0m\u001B[0;34m\u001B[0m\u001B[0;34m\u001B[0m\u001B[0m\n",
      "\u001B[0;32m<ipython-input-5-12b392bffcab>\u001B[0m in \u001B[0;36mget_conv_hull_center\u001B[0;34m(conv_hull)\u001B[0m\n\u001B[1;32m      1\u001B[0m \u001B[0;32mdef\u001B[0m \u001B[0mget_conv_hull_center\u001B[0m\u001B[0;34m(\u001B[0m\u001B[0mconv_hull\u001B[0m\u001B[0;34m:\u001B[0m \u001B[0mtorch\u001B[0m\u001B[0;34m.\u001B[0m\u001B[0mTensor\u001B[0m\u001B[0;34m)\u001B[0m \u001B[0;34m->\u001B[0m \u001B[0mtorch\u001B[0m\u001B[0;34m.\u001B[0m\u001B[0mTensor\u001B[0m\u001B[0;34m:\u001B[0m\u001B[0;34m\u001B[0m\u001B[0;34m\u001B[0m\u001B[0m\n\u001B[0;32m----> 2\u001B[0;31m     \u001B[0;32mreturn\u001B[0m \u001B[0mtorch\u001B[0m\u001B[0;34m.\u001B[0m\u001B[0mmean\u001B[0m\u001B[0;34m(\u001B[0m\u001B[0mconv_hull\u001B[0m\u001B[0;34m,\u001B[0m \u001B[0mdim\u001B[0m\u001B[0;34m=\u001B[0m\u001B[0;36m0\u001B[0m\u001B[0;34m)\u001B[0m\u001B[0;34m\u001B[0m\u001B[0;34m\u001B[0m\u001B[0m\n\u001B[0m\u001B[1;32m      3\u001B[0m \u001B[0;34m\u001B[0m\u001B[0m\n\u001B[1;32m      4\u001B[0m \u001B[0mcenter\u001B[0m \u001B[0;34m=\u001B[0m \u001B[0mget_conv_hull_center\u001B[0m\u001B[0;34m(\u001B[0m\u001B[0mconv_hull\u001B[0m\u001B[0;34m)\u001B[0m\u001B[0;34m\u001B[0m\u001B[0;34m\u001B[0m\u001B[0m\n\u001B[1;32m      5\u001B[0m \u001B[0mprint\u001B[0m\u001B[0;34m(\u001B[0m\u001B[0mcenter\u001B[0m\u001B[0;34m)\u001B[0m\u001B[0;34m\u001B[0m\u001B[0;34m\u001B[0m\u001B[0m\n",
      "\u001B[0;31mRuntimeError\u001B[0m: Can only calculate the mean of floating types. Got Long instead."
     ]
    }
   ],
   "source": [
    "bbox_percent = 1\n",
    "r = 5.0\n",
    "max_energy = 20\n",
    "\n",
    "def get_energy_single(feat_dim: torch.Size, img_size: Tuple[int, int, int], bboxes: torch.Tensor)\\\n",
    "            -> NamedTuple(\"max\", (('values', torch.Tensor), ('indices', torch.LongTensor))):\n",
    "    type_dict = {'dtype': bboxes.dtype, 'device': bboxes.device}\n",
    "    n_bboxes = bboxes.shape[0]\n",
    "    if n_bboxes == 0:  # No bboxes to calculate\n",
    "        return torch.zeros((1, feat_dim[0], feat_dim[1]), **type_dict).max(dim=0)\n",
    "\n",
    "    energy_layers = [torch.zeros((feat_dim[0], feat_dim[1]), **type_dict) for _ in range(n_bboxes)]\n",
    "    zero_tensor = torch.tensor(0., **type_dict)\n",
    "\n",
    "    o_bboxes = torch.zeros((bboxes.size()[0], 9))\n",
    "    # Make sure every bbox has 4 coordinates\n",
    "    for i, bbox in enumerate(bboxes):\n",
    "        points, _ = extract(bbox)\n",
    "        if points.size()[0] == 2:  # Only two corners given\n",
    "            bbox = expand_corners(bbox)  # Derive additional two corners\n",
    "        o_bboxes[i] = bbox\n",
    "\n",
    "    grid_bounds = scale_to_grid_bounds(o_bboxes, feat_dim, img_size, type_dict)\n",
    "    print(grid_bounds)\n",
    "\n",
    "    x_index, y_index = create_meshgrid(feat_dim, type_dict)\n",
    "    # Fill each energy layer. This is done this way to allow for\n",
    "    # vectorized calculations.\n",
    "    for i, gb in enumerate(grid_bounds):\n",
    "        points, lbl = extract(gb)\n",
    "        conv_hull = get_convex_hull(points)\n",
    "        center = get_conv_hull_center(conv_hull)\n",
    "\n",
    "        # First create the mask of grid areas\n",
    "        # where the bounding box exists.\n",
    "        if mask_outside:\n",
    "            mask = torch.zeros_like(energy_layers[i]).to(dtype=torch.bool)\n",
    "            mask[gb[1]:gb[3], gb[0]:gb[2]] = True\n",
    "        else:\n",
    "            mask = torch.ones_like(energy_layers[i]).to(dtype=torch.bool)\n",
    "\n",
    "\n",
    "        # x_dist = torch.abs((bbox_dist[0] - (2. * x_index[mask]\n",
    "        #                                     / x_scale_factor)) / 2)\n",
    "        #\n",
    "        # y_dist = torch.abs((bbox_dist[1] - (2. * y_index[mask]\n",
    "        #                                     / y_scale_factor)) / 2)\n",
    "\n",
    "        x_dist = torch.abs(center[0] - x_index[mask])\n",
    "        y_dist = torch.abs(center[1] - y_index[mask])\n",
    "\n",
    "        if bbox_percent is not None:\n",
    "            # distances relative to the bbox size\n",
    "            bbox_size = torch.tensor((gb[2]-gb[0],\n",
    "                                      gb[3]-gb[1]),\n",
    "                                     **type_dict)\n",
    "\n",
    "            x_dist = x_dist / bbox_size[0]\n",
    "            y_dist = y_dist / bbox_size[1]\n",
    "\n",
    "        # Multiplied by self is faster than tensor.pow(2) by about 30%\n",
    "        tot_dist = torch.sqrt((x_dist * x_dist) + (y_dist * y_dist))\n",
    "\n",
    "        if bbox_percent is not None:\n",
    "            # energy marker based off bounding box size\n",
    "            val = 1 - (tot_dist / bbox_percent)\n",
    "\n",
    "        else:\n",
    "            # energy marker based off fixed radius\n",
    "            val = 1 - (tot_dist / r)\n",
    "\n",
    "        if max_energy != 1:\n",
    "            val = torch.floor(val * (max_energy-1))\n",
    "\n",
    "        # torch.max to eliminate negative numbers. torch.max is\n",
    "        # approximately 20 times faster than using indexing\n",
    "        val = torch.max(val, zero_tensor)\n",
    "\n",
    "        energy_layers[i][mask] = val\n",
    "    energy_layers = torch.cat([torch.unsqueeze(layer, 0) for layer in energy_layers])\n",
    "    return energy_layers.max(dim=0)\n",
    "\n",
    "print(get_energy_single(feat_dim, img_size, a_bboxes))\n",
    "print(get_energy_single(feat_dim, img_size, o_bboxes))"
   ],
   "metadata": {
    "collapsed": false,
    "pycharm": {
     "name": "#%%\n"
    }
   }
  },
  {
   "cell_type": "code",
   "execution_count": null,
   "outputs": [],
   "source": [],
   "metadata": {
    "collapsed": false,
    "pycharm": {
     "name": "#%%\n"
    }
   }
  }
 ],
 "metadata": {
  "kernelspec": {
   "display_name": "Python 3",
   "language": "python",
   "name": "python3"
  },
  "language_info": {
   "codemirror_mode": {
    "name": "ipython",
    "version": 3
   },
   "file_extension": ".py",
   "mimetype": "text/x-python",
   "name": "python",
   "nbconvert_exporter": "python",
   "pygments_lexer": "ipython3",
   "version": "3.8.6"
  }
 },
 "nbformat": 4,
 "nbformat_minor": 4
}